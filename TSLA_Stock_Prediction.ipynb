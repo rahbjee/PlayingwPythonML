import tweepy
import csv
import numpy as np
from textblob import TextBlob
from keras.model import Sequential
from keras.layers import Dense, LSTM
np.random.seed(7)
import matplotlib.pyplot as plt

#inserting Twitter API keys
consumer_key = 'xNGkjtvlmSW8kom0j7LLfAb6H'
consumer_secret = 'mSGYHnGAbABCn3p1oihtE5dy88Wl8X2mfsVYtbcaVAwPQMrUuw'

access_token = '304644354-AhQ31o2wwaArfQdpaf43q5XFkHpNjH2EMNLC25kf'
access_token_secret = '0zv3qSnb22z2v3hXgb3HS2xgKtY8duEQ3PTNzlYgjTQOk'

auth = tweepy.OAuthHandler(consumer_key, consumer_secret)
auth.set_access_token(access_token, access_token_secret)

api = tweepy.API(auth)

public_tweets = api.search('Tesla')

threshold = 0
pos_sent_tweets = 0
neg_sent_tweets = 0
for tweet in public_tweets:
	analysis = TextBlob(tweet.text)
	if analysis.sentiment.polarity>=threshold:
		pos_sent_tweets = pos_sent_tweets+1
	else:
		neg_sent_tweets = neg_sent_tweets+1
if pos_sent_tweets>neg_sent_tweets:
	print("overall positive vibes")
else:
	print("negatives vibes bruh")

dates = []
prices = []
def get_data(filename):
	with open(filename, 'r') as csvfile:
		csvFileReader = csv.reader(csvfile)
		next(csvFileReader)
		for row in csvFileReader:
			dates.append(int(row[0].split('-')[0]))
			prices.append(float[row[1]])
	return
get_data('tsla.csv')

plt.plot(prices)
plt.show
